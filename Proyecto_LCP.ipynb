{
  "nbformat": 4,
  "nbformat_minor": 0,
  "metadata": {
    "colab": {
      "provenance": [],
      "authorship_tag": "ABX9TyPzO5doWb/f19RaSBw6sgYk",
      "include_colab_link": true
    },
    "kernelspec": {
      "name": "python3",
      "display_name": "Python 3"
    },
    "language_info": {
      "name": "python"
    }
  },
  "cells": [
    {
      "cell_type": "markdown",
      "metadata": {
        "id": "view-in-github",
        "colab_type": "text"
      },
      "source": [
        "<a href=\"https://colab.research.google.com/github/chavezvicem/skills-introduction-to-github/blob/main/Proyecto_LCP.ipynb\" target=\"_parent\"><img src=\"https://colab.research.google.com/assets/colab-badge.svg\" alt=\"Open In Colab\"/></a>"
      ]
    },
    {
      "cell_type": "code",
      "source": [
        "# Importación de bibliotecas necesarias\n",
        "import pandas as pd\n",
        "import numpy as np\n",
        "import json\n",
        "import matplotlib.pyplot as plt\n",
        "import re\n",
        "import torch"
      ],
      "metadata": {
        "id": "dLuiRL8JC4XV"
      },
      "execution_count": 61,
      "outputs": []
    },
    {
      "cell_type": "code",
      "source": [
        "import nltk\n",
        "from nltk.tokenize import word_tokenize\n",
        "from nltk import pos_tag\n",
        "from nltk.corpus import stopwords\n",
        "from nltk.stem import WordNetLemmatizer\n",
        "from transformers import pipeline\n",
        "from transformers import BertTokenizer, BertForSequenceClassification\n"
      ],
      "metadata": {
        "id": "GTqqjuJxh0TN"
      },
      "execution_count": 62,
      "outputs": []
    },
    {
      "cell_type": "code",
      "source": [
        "#Descarga de recursos en NTLK\n",
        "nltk.download('punkt')\n",
        "nltk.download('punkt_tab')\n",
        "nltk.download('averaged_perceptron_tagger')\n",
        "nltk.download('stopwords')\n",
        "nltk.download('wordnet')"
      ],
      "metadata": {
        "colab": {
          "base_uri": "https://localhost:8080/"
        },
        "id": "B1SHAVoeiJrV",
        "outputId": "289f0afe-c298-4897-966a-49ea6d98ae20"
      },
      "execution_count": 44,
      "outputs": [
        {
          "output_type": "stream",
          "name": "stderr",
          "text": [
            "[nltk_data] Downloading package punkt to /root/nltk_data...\n",
            "[nltk_data]   Package punkt is already up-to-date!\n",
            "[nltk_data] Downloading package punkt_tab to /root/nltk_data...\n",
            "[nltk_data]   Unzipping tokenizers/punkt_tab.zip.\n",
            "[nltk_data] Downloading package averaged_perceptron_tagger to\n",
            "[nltk_data]     /root/nltk_data...\n",
            "[nltk_data]   Package averaged_perceptron_tagger is already up-to-\n",
            "[nltk_data]       date!\n",
            "[nltk_data] Downloading package stopwords to /root/nltk_data...\n",
            "[nltk_data]   Package stopwords is already up-to-date!\n",
            "[nltk_data] Downloading package wordnet to /root/nltk_data...\n",
            "[nltk_data]   Package wordnet is already up-to-date!\n"
          ]
        },
        {
          "output_type": "execute_result",
          "data": {
            "text/plain": [
              "True"
            ]
          },
          "metadata": {},
          "execution_count": 44
        }
      ]
    },
    {
      "cell_type": "code",
      "source": [
        "# Carga del archivo JSON\n",
        "from google.colab import drive\n",
        "drive.mount('/content/drive')\n",
        "\n",
        "file_path = '/content/drive/My Drive/ProyectoLCP/Gift_Cards_reviews.jsonl'\n",
        "\n"
      ],
      "metadata": {
        "colab": {
          "base_uri": "https://localhost:8080/"
        },
        "id": "v-0ibGeRC6GT",
        "outputId": "c4e1f408-1655-4f29-88ae-7aac5048333e"
      },
      "execution_count": 12,
      "outputs": [
        {
          "output_type": "stream",
          "name": "stdout",
          "text": [
            "Drive already mounted at /content/drive; to attempt to forcibly remount, call drive.mount(\"/content/drive\", force_remount=True).\n"
          ]
        }
      ]
    },
    {
      "cell_type": "code",
      "source": [
        "#Cargar el archivo y verificar que se legible\n",
        "df = pd.read_json(file_path, lines=True) #linrs=True se utiliza para leer el archivo jsonl usando la funcion pd.read_json\n",
        "print(df.head())"
      ],
      "metadata": {
        "colab": {
          "base_uri": "https://localhost:8080/"
        },
        "id": "-3Ga2LQFGBKi",
        "outputId": "2526f124-08b7-406f-890b-9ed2d0b14a83"
      },
      "execution_count": 4,
      "outputs": [
        {
          "output_type": "stream",
          "name": "stdout",
          "text": [
            "   rating               title  \\\n",
            "0       5          Great gift   \n",
            "1       5    amazon gift card   \n",
            "2       5        perfect gift   \n",
            "3       5        Nice looking   \n",
            "4       1  Not $10 Gift Cards   \n",
            "\n",
            "                                                text images        asin  \\\n",
            "0                Having Amazon money is always good.     []  B00IX1I3G6   \n",
            "1  Always the perfect gift.  I have never given o...     []  B005ESMMWW   \n",
            "2  When you have a person who is hard to shop for...     []  B01K8RIM5Y   \n",
            "3  The tin is a nice touch and pretty large.  It'...     []  B0091JKVU0   \n",
            "4  I bought this pack of Starbucks Gift cards in ...     []  B00FTGTM5E   \n",
            "\n",
            "  parent_asin                       user_id               timestamp  \\\n",
            "0  B00IX1I3G6  AHZ6XMOLEWA67S3TX7IWEXXGWSOA 2019-02-11 06:22:38.332   \n",
            "1  B005ESMMWW  AFZUK3MTBIBEDQOPAK3OATUOUKLA 2020-09-12 01:45:58.120   \n",
            "2  B005S28ZES  AFZUK3MTBIBEDQOPAK3OATUOUKLA 2018-09-03 01:58:49.239   \n",
            "3  B00ADR2LV6  AFZUK3MTBIBEDQOPAK3OATUOUKLA 2014-12-13 02:59:37.000   \n",
            "4  B00FTGTIOE  AH5L7ILVA6HYLZOUZIQAWNHVVK3A 2021-11-28 03:06:48.115   \n",
            "\n",
            "   helpful_vote  verified_purchase  \n",
            "0             0               True  \n",
            "1             0              False  \n",
            "2            27               True  \n",
            "3             0              False  \n",
            "4             2               True  \n"
          ]
        }
      ]
    },
    {
      "cell_type": "code",
      "source": [
        "print(\"\\nInformación del conjunto de datos:\")\n",
        "print(df.info())\n",
        "\n",
        "# Estadísticas descriptivas\n",
        "print(\"\\nEstadísticas descriptivas:\")\n",
        "print(df.describe())"
      ],
      "metadata": {
        "colab": {
          "base_uri": "https://localhost:8080/"
        },
        "id": "jNEKSxuiHgii",
        "outputId": "4ff6dc54-f0bf-4854-9c90-99f9385ed279"
      },
      "execution_count": 5,
      "outputs": [
        {
          "output_type": "stream",
          "name": "stdout",
          "text": [
            "\n",
            "Información del conjunto de datos:\n",
            "<class 'pandas.core.frame.DataFrame'>\n",
            "RangeIndex: 100 entries, 0 to 99\n",
            "Data columns (total 10 columns):\n",
            " #   Column             Non-Null Count  Dtype         \n",
            "---  ------             --------------  -----         \n",
            " 0   rating             100 non-null    int64         \n",
            " 1   title              100 non-null    object        \n",
            " 2   text               100 non-null    object        \n",
            " 3   images             100 non-null    object        \n",
            " 4   asin               100 non-null    object        \n",
            " 5   parent_asin        100 non-null    object        \n",
            " 6   user_id            100 non-null    object        \n",
            " 7   timestamp          100 non-null    datetime64[ns]\n",
            " 8   helpful_vote       100 non-null    int64         \n",
            " 9   verified_purchase  100 non-null    bool          \n",
            "dtypes: bool(1), datetime64[ns](1), int64(2), object(6)\n",
            "memory usage: 7.3+ KB\n",
            "None\n",
            "\n",
            "Estadísticas descriptivas:\n",
            "           rating                      timestamp  helpful_vote\n",
            "count  100.000000                            100     100.00000\n",
            "mean     4.750000  2020-02-20 04:19:59.610149888       0.67000\n",
            "min      1.000000            2014-12-13 02:59:37       0.00000\n",
            "25%      5.000000  2018-12-21 17:50:23.657750016       0.00000\n",
            "50%      5.000000  2020-07-17 14:21:46.125500160       0.00000\n",
            "75%      5.000000  2021-11-25 16:16:41.659749888       0.00000\n",
            "max      5.000000     2023-02-17 03:33:52.230000      27.00000\n",
            "std      0.880484                            NaN       3.28466\n"
          ]
        }
      ]
    },
    {
      "cell_type": "code",
      "source": [
        "#Revisar valores faltantes\n",
        "print(\"\\nValores faltantes:\")\n",
        "print(df.isnull().sum())"
      ],
      "metadata": {
        "colab": {
          "base_uri": "https://localhost:8080/"
        },
        "id": "9sykZ31gHk2M",
        "outputId": "80cd8f6e-bc17-41b0-9fcc-dcdd0191e905"
      },
      "execution_count": 6,
      "outputs": [
        {
          "output_type": "stream",
          "name": "stdout",
          "text": [
            "\n",
            "Valores faltantes:\n",
            "rating               0\n",
            "title                0\n",
            "text                 0\n",
            "images               0\n",
            "asin                 0\n",
            "parent_asin          0\n",
            "user_id              0\n",
            "timestamp            0\n",
            "helpful_vote         0\n",
            "verified_purchase    0\n",
            "dtype: int64\n"
          ]
        }
      ]
    },
    {
      "cell_type": "code",
      "source": [
        "def normalizar_texto(texto):\n",
        "  texto = re.sub(r'[^\\w\\s]','',texto)\n",
        "  texto = re.sub(r'\\d+','',texto)\n",
        "  texto = texto.lower()\n",
        "  return texto"
      ],
      "metadata": {
        "id": "k9D4Fekhmp8F"
      },
      "execution_count": 54,
      "outputs": []
    },
    {
      "cell_type": "code",
      "source": [
        "def eliminar_stopwords(tokens, idioma='english'):\n",
        "  stop_words = set(stopwords.words(idioma))\n",
        "  return [word for word in tokens if word not in stop_words]"
      ],
      "metadata": {
        "id": "xVZSWWwLqCha"
      },
      "execution_count": 50,
      "outputs": []
    },
    {
      "cell_type": "code",
      "source": [
        "\n",
        "textos = []\n",
        "with open(file_path, 'r', encoding='utf-8') as archivo:\n",
        "    for linea in archivo:\n",
        "      registro = json.loads(linea)\n",
        "      texto = registro.get(\"text\",\"\")\n",
        "      texto_limpio = normalizar_texto(texto)\n",
        "      textos.append(texto_limpio)\n",
        "\n",
        "print(\"textos cargados:\")\n",
        "for texto in textos:\n",
        "  print(texto)"
      ],
      "metadata": {
        "colab": {
          "base_uri": "https://localhost:8080/"
        },
        "id": "LNFVGze1IHAm",
        "outputId": "9288cac1-7121-4084-bcbd-f500fcf6b0a4"
      },
      "execution_count": 55,
      "outputs": [
        {
          "output_type": "stream",
          "name": "stdout",
          "text": [
            "textos cargados:\n",
            "having amazon money is always good\n",
            "always the perfect gift  i have never given one and had someone seem or act disappointed  just the opposite  they are thrilled and excited to have a bit of a spree  always the perfect size and color  arrives in  day in most cases  so its never too late  lots of cards to chose from thank you birthday weddingbaby  and many that work for many occasions\n",
            "when you have a person who is hard to shop for an amazon gift card is p e r f e c t  man or woman  no matter what their hobby lifestyle or age  all you have to do is pick the   dont forget to mention that it is a gift when you check out  you will have some gift card options  ive ordered many of these over years  they are always received with glee  woo hoo  if youre looking for a great fit for me  this is just my size    best to all\n",
            "the tin is a nice touch and pretty large  its about  in diameter and about  thick  i added a pretty red ribbon and it is perfect  who doesnt love shopping on amazon arrived quickly i have prime but i think they ship the gift cards out super fast like over night in case you need it for a fast gift\n",
            "i bought this pack of starbucks gift cards in  ive given them to friends and i gave  to my daughterbr my daughter used one recently and it had  on the card not  she had the cashier check the balance of the other card and it had  on it she had forgotten that she had these gift cards so yes  years later decided to use the when she found them do they decline in value and then both had random amounts on them im embarrassed now to have given them as gifts friends receiving the gift card arent going to tell you that werent able to cover their order with the card you gave them\n",
            "that snowman tin is adorable\n",
            "great and easy gift\n",
            "super cute nice quality tinbr your choose amount\n",
            "they love it \n",
            "so many peoplebr make your life better so remember them\n",
            "my grandson inlaw loves his gift cards so its the perfect gift for christmas\n",
            "what can you say about a gift card well it was valid its a good gift for someone who doesnt like to cook arrived promptly\n",
            "easy way to gift money for birthdays\n",
            "great gift for online shoppers\n",
            "reloading is easy shopping is easy amazon is easy\n",
            "card did not work\n",
            "i bought this for a christmas giftthe recipient really liked it\n",
            "what a pretty gift card presentation  the recipient loved it  i have one complaint  i took the time and wrote a short note to the recipient of the gift card so she knew who and why the gc was being sent but the note wasnt attached ive used the option to write a note on many occasions and several times it showed up without the note  i actually had to contact her to ask if she had checked her mail knowing it had arrived \n",
            "perfect arrived just when stated\n",
            "good gift card\n",
            "good product\n",
            "good product\n",
            "good product\n",
            "good product\n",
            "good product\n",
            "good product\n",
            "good product\n",
            "good product\n",
            "good product\n",
            "good\n",
            "perfect for christmas\n",
            "easy to do\n",
            "hit button by mistake n deduction from credit card on file\n",
            "always great to order from my home amazon rocks\n",
            "so easy to use and recipients get to choose how to use it\n",
            "this was a good birthday surprise\n",
            "have given as holiday birthday  other occasions remembrances always appreciated by the person receiving\n",
            "awesome  they work\n",
            "really ready to reload gift cards\n",
            "a great way to give a gift to family members in physical form it was so convenient\n",
            "nice gift packaging for any event\n",
            "perfect and i even used amazon points  was mailed right out\n",
            "perfect and i even used amazon points  was mailed right out\n",
            "our cats love this place\n",
            "was cute and the money was loaded when it arrived\n",
            "\n",
            "this is an online gift card nothing to show sorry\n",
            "gift cards are always a hit\n",
            "so cool you can get a free tin with the gift card and it comes in  hours super awesome last year i just printed off the gift cards which looked kind of cheap even though the cards were for substantial amounts highly recommend\n",
            "really easy to load\n",
            "same gift as her big sisters this little one can choose the exact thing she most desires and run to the door for three days in anticipation  a combined birthday and christmas present for one who knows her own mind  good choice\n",
            "purchasing an amazon gift card came with an added monetary value but no morebr br a bronx cheer for you\n",
            "this is near where i work and has a drive through  nothing better during these times to give than a gift of good food they can pick up with minimal contact gift cards are the way to go these days\n",
            "what better gift during these times than one to treat yourself  this is a great gift i gave out to my staff and even those who dont read liked the idea of being able to listen to the audiobooks as well as there being content and other media through audible\n",
            "i love the tin the gift cards can be ordered on different amounts\n",
            "simple and easy\n",
            "being able to reload the gift card is a time saver\n",
            "i mean really who wouldnt love this  wonderful gift for any occasion\n",
            "perfect gift for your kids\n",
            "this is a simple gift to friends or family for me it was easy to setup took ok only about  seconds i also redeem visa gifts by giving the gift card to myself i like there isnt a fee i do want amazon to make some cooler cards with my animation when a receiver gets it\n",
            "bonus recd a promo from amazon for reloading gift card  yeahbr br gift card was posted to my account quickly\n",
            "nice way to save a few bucks overtime by reloading your own gift card\n",
            "who wouldnt want an amazon gift card  the box foretold the contents lol\n",
            "i only used the  card one time at burger king it was difficult to use must be run as credit not as gift card no remaining balance is given at the end of the transaction and although its on me i misplaced or lost this card after only spending about  of it i was hoping that the seller could provide me with the full card number so that i could at least use it online for other purchases they failed to respond i have the receipt from bk but it only shows the last  numbers there isnt a way of contacting happy cards customer service online that i could figure out i wish id just stuck with credit cards a lot safer\n",
            "we all know the kid who wants nothing or actually wants everything but nothing is good enough yesyesthe secret weapon a amazon gift card  you pulled it off you showed your love and you are the best and greatest happy birthday to just becauseyou are the best\n",
            "this comes in  very handy and makes the guilt less\n",
            "who would not like an amazon gift card  makes everyone i give them happy\n",
            "so easy no scraping\n",
            "easy to use\n",
            "works great\n",
            "another nice gift box from amazon with the world the way it is now i had to send a gift rather than going to a party and amazon has a good selection of gift boxes and fast shipping so my nephew was happy when he received the card in the mail\n",
            "bought this for a gift and was very happy it shipped quickly and they received it just in time amazon is awesome \n",
            "love the gift box so much j nb icee than just handing a gift card to the grandkids\n",
            "it was a nice way to give a present\n",
            "great buy\n",
            "great idea  i was so happy to have these on hand for the holidays\n",
            "so gift card for certain sum  no service fee  lively metal gift box  yes i said metal  what is not to love about thisbr br well done amazon  well done\n",
            "great timing\n",
            "easy to use\n",
            "so so cute\n",
            "the recipient can choose what they want so the giver has less chance of a mistake\n",
            "a great and convenient gift ideaprice is right too\n",
            "the gift card came in a pretty boxbr thanks amozan\n",
            "this was for a gift\n",
            "made my shopping much better good value\n",
            "i sent this to my brother and he couldnt stop talking about it this boxes puts a little more nice into a gift very pretty\n",
            "it can be used for a variety of things\n",
            "great holder for gift cards\n",
            "makes these so easy for any holiday and especially stops buying something people do not like\n",
            "my friend like the gift card like the sweater for holiday card\n",
            "im happy they did not cost me more than their face value to buy i gave them out as a nice thank you to those who helped me with small things around my house i sent them in the mail as a surprise knowing money or gifts was not necessary i recommend them\n",
            "after i bought several i realized i could have sent gift money via text without the fees or wait\n",
            "those who already have everything they can buy an audible book an old rerun of a favorite movie some little thing they may want or whatever as a gift for any occasion i recommend\n",
            "arrived on time in perfect shape and best of all the person receiving the gift can buy whatever they want one size fits all\n",
            "made holiday shopping easy\n",
            "usually i either receive an amazon gift card as a birthday andor christmas gift or i purchase them at a store then its very easy to add the amount to my gift card balance using my cell phone well i was stuck inside for several days due to a blizzard and i bought quite a few books then due to a travel ban i could not go to the store to purchase a gift cardbr so after checking my gift card balance i saw that i had overindulged and it needed to be topped up one of the options under manage your balance was to reload your balance i had never used this option but decided to try it it was so easy to do and i didnt have to leave the comfort of my home i will be using it again in the future\n",
            "love my card\n",
            "its easy to use and very convenient i would definitely consider refill more in the future\n",
            "very easy to use i wish i knew about it earlier\n",
            "sent in a lovely container\n"
          ]
        }
      ]
    },
    {
      "cell_type": "code",
      "source": [
        "lemmatizer = WordNetLemmatizer()\n",
        "tokens_limpios = []"
      ],
      "metadata": {
        "id": "fuZkXhXkkN9z"
      },
      "execution_count": 56,
      "outputs": []
    },
    {
      "cell_type": "code",
      "source": [
        "for texto in textos:\n",
        "  tokens = word_tokenize(texto)\n",
        "  tokens_sin_stopwords = eliminar_stopwords(tokens, idioma='english')\n",
        "  lemmatized_tokens = [lemmatizer.lemmatize(word) for word in tokens_sin_stopwords]\n",
        "  tokens_limpios.append(lemmatized_tokens)"
      ],
      "metadata": {
        "id": "03aPxoa0kTBE"
      },
      "execution_count": 59,
      "outputs": []
    },
    {
      "cell_type": "code",
      "source": [
        "print(\"\\nTokens Lematizados y sin stop words:\")\n",
        "for i, lemmatized in enumerate(tokens_limpios):\n",
        "  print(f\"Texo {i+1}: {tokens}\")"
      ],
      "metadata": {
        "colab": {
          "base_uri": "https://localhost:8080/"
        },
        "id": "CWyAlLpWpxPE",
        "outputId": "7578db4f-369d-4e80-bcd5-81ff20860e37"
      },
      "execution_count": 60,
      "outputs": [
        {
          "output_type": "stream",
          "name": "stdout",
          "text": [
            "\n",
            "Tokens Lematizados y sin stop words:\n",
            "Texo 1: ['sent', 'in', 'a', 'lovely', 'container']\n",
            "Texo 2: ['sent', 'in', 'a', 'lovely', 'container']\n",
            "Texo 3: ['sent', 'in', 'a', 'lovely', 'container']\n",
            "Texo 4: ['sent', 'in', 'a', 'lovely', 'container']\n",
            "Texo 5: ['sent', 'in', 'a', 'lovely', 'container']\n",
            "Texo 6: ['sent', 'in', 'a', 'lovely', 'container']\n",
            "Texo 7: ['sent', 'in', 'a', 'lovely', 'container']\n",
            "Texo 8: ['sent', 'in', 'a', 'lovely', 'container']\n",
            "Texo 9: ['sent', 'in', 'a', 'lovely', 'container']\n",
            "Texo 10: ['sent', 'in', 'a', 'lovely', 'container']\n",
            "Texo 11: ['sent', 'in', 'a', 'lovely', 'container']\n",
            "Texo 12: ['sent', 'in', 'a', 'lovely', 'container']\n",
            "Texo 13: ['sent', 'in', 'a', 'lovely', 'container']\n",
            "Texo 14: ['sent', 'in', 'a', 'lovely', 'container']\n",
            "Texo 15: ['sent', 'in', 'a', 'lovely', 'container']\n",
            "Texo 16: ['sent', 'in', 'a', 'lovely', 'container']\n",
            "Texo 17: ['sent', 'in', 'a', 'lovely', 'container']\n",
            "Texo 18: ['sent', 'in', 'a', 'lovely', 'container']\n",
            "Texo 19: ['sent', 'in', 'a', 'lovely', 'container']\n",
            "Texo 20: ['sent', 'in', 'a', 'lovely', 'container']\n",
            "Texo 21: ['sent', 'in', 'a', 'lovely', 'container']\n",
            "Texo 22: ['sent', 'in', 'a', 'lovely', 'container']\n",
            "Texo 23: ['sent', 'in', 'a', 'lovely', 'container']\n",
            "Texo 24: ['sent', 'in', 'a', 'lovely', 'container']\n",
            "Texo 25: ['sent', 'in', 'a', 'lovely', 'container']\n",
            "Texo 26: ['sent', 'in', 'a', 'lovely', 'container']\n",
            "Texo 27: ['sent', 'in', 'a', 'lovely', 'container']\n",
            "Texo 28: ['sent', 'in', 'a', 'lovely', 'container']\n",
            "Texo 29: ['sent', 'in', 'a', 'lovely', 'container']\n",
            "Texo 30: ['sent', 'in', 'a', 'lovely', 'container']\n",
            "Texo 31: ['sent', 'in', 'a', 'lovely', 'container']\n",
            "Texo 32: ['sent', 'in', 'a', 'lovely', 'container']\n",
            "Texo 33: ['sent', 'in', 'a', 'lovely', 'container']\n",
            "Texo 34: ['sent', 'in', 'a', 'lovely', 'container']\n",
            "Texo 35: ['sent', 'in', 'a', 'lovely', 'container']\n",
            "Texo 36: ['sent', 'in', 'a', 'lovely', 'container']\n",
            "Texo 37: ['sent', 'in', 'a', 'lovely', 'container']\n",
            "Texo 38: ['sent', 'in', 'a', 'lovely', 'container']\n",
            "Texo 39: ['sent', 'in', 'a', 'lovely', 'container']\n",
            "Texo 40: ['sent', 'in', 'a', 'lovely', 'container']\n",
            "Texo 41: ['sent', 'in', 'a', 'lovely', 'container']\n",
            "Texo 42: ['sent', 'in', 'a', 'lovely', 'container']\n",
            "Texo 43: ['sent', 'in', 'a', 'lovely', 'container']\n",
            "Texo 44: ['sent', 'in', 'a', 'lovely', 'container']\n",
            "Texo 45: ['sent', 'in', 'a', 'lovely', 'container']\n",
            "Texo 46: ['sent', 'in', 'a', 'lovely', 'container']\n",
            "Texo 47: ['sent', 'in', 'a', 'lovely', 'container']\n",
            "Texo 48: ['sent', 'in', 'a', 'lovely', 'container']\n",
            "Texo 49: ['sent', 'in', 'a', 'lovely', 'container']\n",
            "Texo 50: ['sent', 'in', 'a', 'lovely', 'container']\n",
            "Texo 51: ['sent', 'in', 'a', 'lovely', 'container']\n",
            "Texo 52: ['sent', 'in', 'a', 'lovely', 'container']\n",
            "Texo 53: ['sent', 'in', 'a', 'lovely', 'container']\n",
            "Texo 54: ['sent', 'in', 'a', 'lovely', 'container']\n",
            "Texo 55: ['sent', 'in', 'a', 'lovely', 'container']\n",
            "Texo 56: ['sent', 'in', 'a', 'lovely', 'container']\n",
            "Texo 57: ['sent', 'in', 'a', 'lovely', 'container']\n",
            "Texo 58: ['sent', 'in', 'a', 'lovely', 'container']\n",
            "Texo 59: ['sent', 'in', 'a', 'lovely', 'container']\n",
            "Texo 60: ['sent', 'in', 'a', 'lovely', 'container']\n",
            "Texo 61: ['sent', 'in', 'a', 'lovely', 'container']\n",
            "Texo 62: ['sent', 'in', 'a', 'lovely', 'container']\n",
            "Texo 63: ['sent', 'in', 'a', 'lovely', 'container']\n",
            "Texo 64: ['sent', 'in', 'a', 'lovely', 'container']\n",
            "Texo 65: ['sent', 'in', 'a', 'lovely', 'container']\n",
            "Texo 66: ['sent', 'in', 'a', 'lovely', 'container']\n",
            "Texo 67: ['sent', 'in', 'a', 'lovely', 'container']\n",
            "Texo 68: ['sent', 'in', 'a', 'lovely', 'container']\n",
            "Texo 69: ['sent', 'in', 'a', 'lovely', 'container']\n",
            "Texo 70: ['sent', 'in', 'a', 'lovely', 'container']\n",
            "Texo 71: ['sent', 'in', 'a', 'lovely', 'container']\n",
            "Texo 72: ['sent', 'in', 'a', 'lovely', 'container']\n",
            "Texo 73: ['sent', 'in', 'a', 'lovely', 'container']\n",
            "Texo 74: ['sent', 'in', 'a', 'lovely', 'container']\n",
            "Texo 75: ['sent', 'in', 'a', 'lovely', 'container']\n",
            "Texo 76: ['sent', 'in', 'a', 'lovely', 'container']\n",
            "Texo 77: ['sent', 'in', 'a', 'lovely', 'container']\n",
            "Texo 78: ['sent', 'in', 'a', 'lovely', 'container']\n",
            "Texo 79: ['sent', 'in', 'a', 'lovely', 'container']\n",
            "Texo 80: ['sent', 'in', 'a', 'lovely', 'container']\n",
            "Texo 81: ['sent', 'in', 'a', 'lovely', 'container']\n",
            "Texo 82: ['sent', 'in', 'a', 'lovely', 'container']\n",
            "Texo 83: ['sent', 'in', 'a', 'lovely', 'container']\n",
            "Texo 84: ['sent', 'in', 'a', 'lovely', 'container']\n",
            "Texo 85: ['sent', 'in', 'a', 'lovely', 'container']\n",
            "Texo 86: ['sent', 'in', 'a', 'lovely', 'container']\n",
            "Texo 87: ['sent', 'in', 'a', 'lovely', 'container']\n",
            "Texo 88: ['sent', 'in', 'a', 'lovely', 'container']\n",
            "Texo 89: ['sent', 'in', 'a', 'lovely', 'container']\n",
            "Texo 90: ['sent', 'in', 'a', 'lovely', 'container']\n",
            "Texo 91: ['sent', 'in', 'a', 'lovely', 'container']\n",
            "Texo 92: ['sent', 'in', 'a', 'lovely', 'container']\n",
            "Texo 93: ['sent', 'in', 'a', 'lovely', 'container']\n",
            "Texo 94: ['sent', 'in', 'a', 'lovely', 'container']\n",
            "Texo 95: ['sent', 'in', 'a', 'lovely', 'container']\n",
            "Texo 96: ['sent', 'in', 'a', 'lovely', 'container']\n",
            "Texo 97: ['sent', 'in', 'a', 'lovely', 'container']\n",
            "Texo 98: ['sent', 'in', 'a', 'lovely', 'container']\n",
            "Texo 99: ['sent', 'in', 'a', 'lovely', 'container']\n",
            "Texo 100: ['sent', 'in', 'a', 'lovely', 'container']\n",
            "Texo 101: ['sent', 'in', 'a', 'lovely', 'container']\n",
            "Texo 102: ['sent', 'in', 'a', 'lovely', 'container']\n",
            "Texo 103: ['sent', 'in', 'a', 'lovely', 'container']\n",
            "Texo 104: ['sent', 'in', 'a', 'lovely', 'container']\n",
            "Texo 105: ['sent', 'in', 'a', 'lovely', 'container']\n",
            "Texo 106: ['sent', 'in', 'a', 'lovely', 'container']\n",
            "Texo 107: ['sent', 'in', 'a', 'lovely', 'container']\n",
            "Texo 108: ['sent', 'in', 'a', 'lovely', 'container']\n",
            "Texo 109: ['sent', 'in', 'a', 'lovely', 'container']\n",
            "Texo 110: ['sent', 'in', 'a', 'lovely', 'container']\n",
            "Texo 111: ['sent', 'in', 'a', 'lovely', 'container']\n",
            "Texo 112: ['sent', 'in', 'a', 'lovely', 'container']\n",
            "Texo 113: ['sent', 'in', 'a', 'lovely', 'container']\n",
            "Texo 114: ['sent', 'in', 'a', 'lovely', 'container']\n",
            "Texo 115: ['sent', 'in', 'a', 'lovely', 'container']\n",
            "Texo 116: ['sent', 'in', 'a', 'lovely', 'container']\n",
            "Texo 117: ['sent', 'in', 'a', 'lovely', 'container']\n",
            "Texo 118: ['sent', 'in', 'a', 'lovely', 'container']\n",
            "Texo 119: ['sent', 'in', 'a', 'lovely', 'container']\n",
            "Texo 120: ['sent', 'in', 'a', 'lovely', 'container']\n",
            "Texo 121: ['sent', 'in', 'a', 'lovely', 'container']\n",
            "Texo 122: ['sent', 'in', 'a', 'lovely', 'container']\n",
            "Texo 123: ['sent', 'in', 'a', 'lovely', 'container']\n",
            "Texo 124: ['sent', 'in', 'a', 'lovely', 'container']\n",
            "Texo 125: ['sent', 'in', 'a', 'lovely', 'container']\n",
            "Texo 126: ['sent', 'in', 'a', 'lovely', 'container']\n",
            "Texo 127: ['sent', 'in', 'a', 'lovely', 'container']\n",
            "Texo 128: ['sent', 'in', 'a', 'lovely', 'container']\n",
            "Texo 129: ['sent', 'in', 'a', 'lovely', 'container']\n",
            "Texo 130: ['sent', 'in', 'a', 'lovely', 'container']\n",
            "Texo 131: ['sent', 'in', 'a', 'lovely', 'container']\n",
            "Texo 132: ['sent', 'in', 'a', 'lovely', 'container']\n",
            "Texo 133: ['sent', 'in', 'a', 'lovely', 'container']\n",
            "Texo 134: ['sent', 'in', 'a', 'lovely', 'container']\n",
            "Texo 135: ['sent', 'in', 'a', 'lovely', 'container']\n",
            "Texo 136: ['sent', 'in', 'a', 'lovely', 'container']\n",
            "Texo 137: ['sent', 'in', 'a', 'lovely', 'container']\n",
            "Texo 138: ['sent', 'in', 'a', 'lovely', 'container']\n",
            "Texo 139: ['sent', 'in', 'a', 'lovely', 'container']\n",
            "Texo 140: ['sent', 'in', 'a', 'lovely', 'container']\n",
            "Texo 141: ['sent', 'in', 'a', 'lovely', 'container']\n",
            "Texo 142: ['sent', 'in', 'a', 'lovely', 'container']\n",
            "Texo 143: ['sent', 'in', 'a', 'lovely', 'container']\n",
            "Texo 144: ['sent', 'in', 'a', 'lovely', 'container']\n",
            "Texo 145: ['sent', 'in', 'a', 'lovely', 'container']\n",
            "Texo 146: ['sent', 'in', 'a', 'lovely', 'container']\n",
            "Texo 147: ['sent', 'in', 'a', 'lovely', 'container']\n",
            "Texo 148: ['sent', 'in', 'a', 'lovely', 'container']\n",
            "Texo 149: ['sent', 'in', 'a', 'lovely', 'container']\n",
            "Texo 150: ['sent', 'in', 'a', 'lovely', 'container']\n",
            "Texo 151: ['sent', 'in', 'a', 'lovely', 'container']\n",
            "Texo 152: ['sent', 'in', 'a', 'lovely', 'container']\n",
            "Texo 153: ['sent', 'in', 'a', 'lovely', 'container']\n",
            "Texo 154: ['sent', 'in', 'a', 'lovely', 'container']\n",
            "Texo 155: ['sent', 'in', 'a', 'lovely', 'container']\n",
            "Texo 156: ['sent', 'in', 'a', 'lovely', 'container']\n",
            "Texo 157: ['sent', 'in', 'a', 'lovely', 'container']\n",
            "Texo 158: ['sent', 'in', 'a', 'lovely', 'container']\n",
            "Texo 159: ['sent', 'in', 'a', 'lovely', 'container']\n",
            "Texo 160: ['sent', 'in', 'a', 'lovely', 'container']\n",
            "Texo 161: ['sent', 'in', 'a', 'lovely', 'container']\n",
            "Texo 162: ['sent', 'in', 'a', 'lovely', 'container']\n",
            "Texo 163: ['sent', 'in', 'a', 'lovely', 'container']\n",
            "Texo 164: ['sent', 'in', 'a', 'lovely', 'container']\n",
            "Texo 165: ['sent', 'in', 'a', 'lovely', 'container']\n",
            "Texo 166: ['sent', 'in', 'a', 'lovely', 'container']\n",
            "Texo 167: ['sent', 'in', 'a', 'lovely', 'container']\n",
            "Texo 168: ['sent', 'in', 'a', 'lovely', 'container']\n",
            "Texo 169: ['sent', 'in', 'a', 'lovely', 'container']\n",
            "Texo 170: ['sent', 'in', 'a', 'lovely', 'container']\n",
            "Texo 171: ['sent', 'in', 'a', 'lovely', 'container']\n",
            "Texo 172: ['sent', 'in', 'a', 'lovely', 'container']\n",
            "Texo 173: ['sent', 'in', 'a', 'lovely', 'container']\n",
            "Texo 174: ['sent', 'in', 'a', 'lovely', 'container']\n",
            "Texo 175: ['sent', 'in', 'a', 'lovely', 'container']\n",
            "Texo 176: ['sent', 'in', 'a', 'lovely', 'container']\n",
            "Texo 177: ['sent', 'in', 'a', 'lovely', 'container']\n",
            "Texo 178: ['sent', 'in', 'a', 'lovely', 'container']\n",
            "Texo 179: ['sent', 'in', 'a', 'lovely', 'container']\n",
            "Texo 180: ['sent', 'in', 'a', 'lovely', 'container']\n",
            "Texo 181: ['sent', 'in', 'a', 'lovely', 'container']\n",
            "Texo 182: ['sent', 'in', 'a', 'lovely', 'container']\n",
            "Texo 183: ['sent', 'in', 'a', 'lovely', 'container']\n",
            "Texo 184: ['sent', 'in', 'a', 'lovely', 'container']\n",
            "Texo 185: ['sent', 'in', 'a', 'lovely', 'container']\n",
            "Texo 186: ['sent', 'in', 'a', 'lovely', 'container']\n",
            "Texo 187: ['sent', 'in', 'a', 'lovely', 'container']\n",
            "Texo 188: ['sent', 'in', 'a', 'lovely', 'container']\n",
            "Texo 189: ['sent', 'in', 'a', 'lovely', 'container']\n",
            "Texo 190: ['sent', 'in', 'a', 'lovely', 'container']\n",
            "Texo 191: ['sent', 'in', 'a', 'lovely', 'container']\n",
            "Texo 192: ['sent', 'in', 'a', 'lovely', 'container']\n",
            "Texo 193: ['sent', 'in', 'a', 'lovely', 'container']\n",
            "Texo 194: ['sent', 'in', 'a', 'lovely', 'container']\n",
            "Texo 195: ['sent', 'in', 'a', 'lovely', 'container']\n",
            "Texo 196: ['sent', 'in', 'a', 'lovely', 'container']\n",
            "Texo 197: ['sent', 'in', 'a', 'lovely', 'container']\n",
            "Texo 198: ['sent', 'in', 'a', 'lovely', 'container']\n",
            "Texo 199: ['sent', 'in', 'a', 'lovely', 'container']\n",
            "Texo 200: ['sent', 'in', 'a', 'lovely', 'container']\n"
          ]
        }
      ]
    },
    {
      "cell_type": "code",
      "source": [
        "#Cargar model, tokenizador y pipline\n",
        "model = 'nlptown/bert-base-multilingual-uncased-sentiment'\n",
        "tokenizador = BertTokenizer.from_pretrained(model)\n",
        "model = BertForSequenceClassification.from_pretrained(model)\n",
        "pipeline = pipeline(\"sentiment-analysis\", model=model, tokenizer=tokenizador)"
      ],
      "metadata": {
        "colab": {
          "base_uri": "https://localhost:8080/"
        },
        "id": "I0mTyOSjtGld",
        "outputId": "421cb44c-8be3-4c67-f73a-e986374cb485"
      },
      "execution_count": 65,
      "outputs": [
        {
          "output_type": "stream",
          "name": "stderr",
          "text": [
            "Device set to use cpu\n"
          ]
        }
      ]
    },
    {
      "cell_type": "code",
      "source": [
        "results = pipeline(textos)"
      ],
      "metadata": {
        "id": "frls2MtxuVyh"
      },
      "execution_count": 68,
      "outputs": []
    },
    {
      "cell_type": "code",
      "source": [
        "for result in results:\n",
        "  print(f\"Texto: {result['label']}\")\n",
        "  print(f\"Puntuación: {result['score']:.4f}\")"
      ],
      "metadata": {
        "colab": {
          "base_uri": "https://localhost:8080/"
        },
        "id": "fWSSGnyUu_U3",
        "outputId": "82a13800-5103-4326-fa2d-dfc59f939113"
      },
      "execution_count": 69,
      "outputs": [
        {
          "output_type": "stream",
          "name": "stdout",
          "text": [
            "Texto: 5 stars\n",
            "Puntuación: 0.4886\n",
            "Texto: 5 stars\n",
            "Puntuación: 0.8608\n",
            "Texto: 5 stars\n",
            "Puntuación: 0.4905\n",
            "Texto: 5 stars\n",
            "Puntuación: 0.4660\n",
            "Texto: 1 star\n",
            "Puntuación: 0.4575\n",
            "Texto: 5 stars\n",
            "Puntuación: 0.6497\n",
            "Texto: 5 stars\n",
            "Puntuación: 0.7688\n",
            "Texto: 5 stars\n",
            "Puntuación: 0.7180\n",
            "Texto: 5 stars\n",
            "Puntuación: 0.6964\n",
            "Texto: 5 stars\n",
            "Puntuación: 0.5883\n",
            "Texto: 5 stars\n",
            "Puntuación: 0.7330\n",
            "Texto: 4 stars\n",
            "Puntuación: 0.3675\n",
            "Texto: 5 stars\n",
            "Puntuación: 0.5538\n",
            "Texto: 5 stars\n",
            "Puntuación: 0.6816\n",
            "Texto: 5 stars\n",
            "Puntuación: 0.5147\n",
            "Texto: 1 star\n",
            "Puntuación: 0.7419\n",
            "Texto: 5 stars\n",
            "Puntuación: 0.5208\n",
            "Texto: 4 stars\n",
            "Puntuación: 0.4325\n",
            "Texto: 5 stars\n",
            "Puntuación: 0.8308\n",
            "Texto: 4 stars\n",
            "Puntuación: 0.5207\n",
            "Texto: 4 stars\n",
            "Puntuación: 0.5352\n",
            "Texto: 4 stars\n",
            "Puntuación: 0.5352\n",
            "Texto: 4 stars\n",
            "Puntuación: 0.5352\n",
            "Texto: 4 stars\n",
            "Puntuación: 0.5352\n",
            "Texto: 4 stars\n",
            "Puntuación: 0.5352\n",
            "Texto: 4 stars\n",
            "Puntuación: 0.5352\n",
            "Texto: 4 stars\n",
            "Puntuación: 0.5352\n",
            "Texto: 4 stars\n",
            "Puntuación: 0.5352\n",
            "Texto: 4 stars\n",
            "Puntuación: 0.5352\n",
            "Texto: 4 stars\n",
            "Puntuación: 0.4970\n",
            "Texto: 5 stars\n",
            "Puntuación: 0.7672\n",
            "Texto: 5 stars\n",
            "Puntuación: 0.5608\n",
            "Texto: 1 star\n",
            "Puntuación: 0.6349\n",
            "Texto: 5 stars\n",
            "Puntuación: 0.7734\n",
            "Texto: 5 stars\n",
            "Puntuación: 0.6339\n",
            "Texto: 4 stars\n",
            "Puntuación: 0.4727\n",
            "Texto: 4 stars\n",
            "Puntuación: 0.4321\n",
            "Texto: 5 stars\n",
            "Puntuación: 0.8071\n",
            "Texto: 5 stars\n",
            "Puntuación: 0.6697\n",
            "Texto: 5 stars\n",
            "Puntuación: 0.7066\n",
            "Texto: 4 stars\n",
            "Puntuación: 0.4989\n",
            "Texto: 5 stars\n",
            "Puntuación: 0.9298\n",
            "Texto: 5 stars\n",
            "Puntuación: 0.9298\n",
            "Texto: 5 stars\n",
            "Puntuación: 0.7873\n",
            "Texto: 5 stars\n",
            "Puntuación: 0.2773\n",
            "Texto: 4 stars\n",
            "Puntuación: 0.2846\n",
            "Texto: 1 star\n",
            "Puntuación: 0.4272\n",
            "Texto: 5 stars\n",
            "Puntuación: 0.6484\n",
            "Texto: 5 stars\n",
            "Puntuación: 0.6116\n",
            "Texto: 5 stars\n",
            "Puntuación: 0.6683\n",
            "Texto: 5 stars\n",
            "Puntuación: 0.6104\n",
            "Texto: 1 star\n",
            "Puntuación: 0.4574\n",
            "Texto: 5 stars\n",
            "Puntuación: 0.5234\n",
            "Texto: 5 stars\n",
            "Puntuación: 0.8464\n",
            "Texto: 5 stars\n",
            "Puntuación: 0.7128\n",
            "Texto: 5 stars\n",
            "Puntuación: 0.6198\n",
            "Texto: 4 stars\n",
            "Puntuación: 0.4310\n",
            "Texto: 5 stars\n",
            "Puntuación: 0.8265\n",
            "Texto: 5 stars\n",
            "Puntuación: 0.8500\n",
            "Texto: 3 stars\n",
            "Puntuación: 0.4378\n",
            "Texto: 5 stars\n",
            "Puntuación: 0.4648\n",
            "Texto: 5 stars\n",
            "Puntuación: 0.4530\n",
            "Texto: 1 star\n",
            "Puntuación: 0.3991\n",
            "Texto: 1 star\n",
            "Puntuación: 0.5638\n",
            "Texto: 1 star\n",
            "Puntuación: 0.3538\n",
            "Texto: 5 stars\n",
            "Puntuación: 0.5234\n",
            "Texto: 5 stars\n",
            "Puntuación: 0.3875\n",
            "Texto: 5 stars\n",
            "Puntuación: 0.7271\n",
            "Texto: 5 stars\n",
            "Puntuación: 0.5391\n",
            "Texto: 5 stars\n",
            "Puntuación: 0.6749\n",
            "Texto: 5 stars\n",
            "Puntuación: 0.5468\n",
            "Texto: 5 stars\n",
            "Puntuación: 0.8227\n",
            "Texto: 5 stars\n",
            "Puntuación: 0.7744\n",
            "Texto: 4 stars\n",
            "Puntuación: 0.5227\n",
            "Texto: 5 stars\n",
            "Puntuación: 0.7526\n",
            "Texto: 5 stars\n",
            "Puntuación: 0.7200\n",
            "Texto: 1 star\n",
            "Puntuación: 0.2964\n",
            "Texto: 5 stars\n",
            "Puntuación: 0.6429\n",
            "Texto: 5 stars\n",
            "Puntuación: 0.5391\n",
            "Texto: 3 stars\n",
            "Puntuación: 0.6121\n",
            "Texto: 3 stars\n",
            "Puntuación: 0.3461\n",
            "Texto: 5 stars\n",
            "Puntuación: 0.7429\n",
            "Texto: 5 stars\n",
            "Puntuación: 0.3875\n",
            "Texto: 5 stars\n",
            "Puntuación: 0.3689\n",
            "Texto: 5 stars\n",
            "Puntuación: 0.3487\n",
            "Texto: 5 stars\n",
            "Puntuación: 0.5711\n",
            "Texto: 4 stars\n",
            "Puntuación: 0.3993\n",
            "Texto: 5 stars\n",
            "Puntuación: 0.7371\n",
            "Texto: 5 stars\n",
            "Puntuación: 0.7199\n",
            "Texto: 5 stars\n",
            "Puntuación: 0.4937\n",
            "Texto: 5 stars\n",
            "Puntuación: 0.4845\n",
            "Texto: 1 star\n",
            "Puntuación: 0.4244\n",
            "Texto: 5 stars\n",
            "Puntuación: 0.4953\n",
            "Texto: 5 stars\n",
            "Puntuación: 0.8409\n",
            "Texto: 5 stars\n",
            "Puntuación: 0.4564\n",
            "Texto: 4 stars\n",
            "Puntuación: 0.3639\n",
            "Texto: 5 stars\n",
            "Puntuación: 0.7692\n",
            "Texto: 4 stars\n",
            "Puntuación: 0.5854\n",
            "Texto: 4 stars\n",
            "Puntuación: 0.4631\n",
            "Texto: 5 stars\n",
            "Puntuación: 0.5834\n"
          ]
        }
      ]
    },
    {
      "cell_type": "code",
      "source": [
        "#clasificar los resultados en categorías\n",
        "Insatisfecho = [res['score'] for res in results if res['score'] <= 0.3]\n",
        "Neutral = [res['score'] for res in results if 0.3 < res['score'] <= 0.5]\n",
        "Satisfecho = [res['score'] for res in results if res['score'] > 0.5]\n",
        "\n",
        "#contar la cantidad de elementos en cada categoría\n",
        "categorias = ['Insatisfecho', 'Neutral', 'Satisfecho']\n",
        "cantidades = [len(Insatisfecho), len(Neutral), len(Satisfecho)]\n",
        "\n",
        "#Crear la gráfica\n",
        "fig, ax = plt.subplots()\n",
        "bar_colors = ['red', 'yellow', 'green']\n",
        "bars = ax.bar(categorias, cantidades, color=bar_colors)\n",
        "ax.set_xlabel('Categoría')\n",
        "ax.set_ylabel('Cantidad')\n",
        "ax.set_title('Distribución de Categorías')\n",
        "plt.show()\n"
      ],
      "metadata": {
        "colab": {
          "base_uri": "https://localhost:8080/",
          "height": 473
        },
        "id": "acI7D2Huxr0p",
        "outputId": "ce644dc8-9551-443c-81d5-9f902ff82d25"
      },
      "execution_count": 70,
      "outputs": [
        {
          "output_type": "display_data",
          "data": {
            "text/plain": [
              "<Figure size 640x480 with 1 Axes>"
            ],
            "image/png": "[encoded data removed]"
          },
          "metadata": {}
        }
      ]
    }
  ]
}